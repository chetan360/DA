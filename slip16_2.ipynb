{
 "cells": [
  {
   "cell_type": "markdown",
   "id": "060a6cec-7e4b-40b7-9441-44d0e040d395",
   "metadata": {},
   "source": [
    "Q. 2)Consider any text paragraph. Preprocess the text to remove any special characters and digits. \n",
    "Generate the summary using extractive summarization process "
   ]
  },
  {
   "cell_type": "code",
   "execution_count": 9,
   "id": "26f83398",
   "metadata": {},
   "outputs": [
    {
     "name": "stdout",
     "output_type": "stream",
     "text": [
      "\n",
      "Natural language processing NLP is a subfield of artificial intelligence concerned with the interactions between computers and human language It focuses on enabling computers to understand interpret and generate human language in a valuable way NLP techniques are used in various applications such as language translation sentiment analysis chatbots and more\n",
      "\n",
      "One of the key preprocessing steps in NLP is text cleaning which involves removing noise such as special characters digits and irrelevant symbols This step helps in improving the quality of text data for further analysis\n",
      "\n",
      "Extractive summarization is a technique used to generate summaries by selecting the most important sentences or phrases from a text document It involves scoring sentences based on their relevance and importance to the overall content of the document\n",
      "\n",
      "TFIDF Term FrequencyInverse Document Frequency is a popular technique used for text analysis and information retrieval It calculates the importance of a term within a document relative to its frequency across multiple documents\n",
      "\n",
      "TextRank is another algorithm commonly used for extractive summarization It ranks sentences based on their similarity to other sentences in the document similar to how PageRank works for web pages\n",
      "\n",
      "In this example well preprocess a text paragraph apply extractive summarization using TFIDF and generate a summary based on the most important sentences\n"
     ]
    },
    {
     "name": "stderr",
     "output_type": "stream",
     "text": [
      "[nltk_data] Downloading package punkt to\n",
      "[nltk_data]     C:\\Users\\Administrator\\AppData\\Roaming\\nltk_data...\n",
      "[nltk_data]   Package punkt is already up-to-date!\n"
     ]
    }
   ],
   "source": [
    "import nltk\n",
    "nltk.download('punkt')\n",
    "\n",
    "import re\n",
    "import nltk\n",
    "from nltk.tokenize import sent_tokenize\n",
    "from sklearn.feature_extraction.text import TfidfVectorizer\n",
    "\n",
    "# Sample text paragraph\n",
    "text = \"\"\"\n",
    "Natural language processing (NLP) is a subfield of artificial intelligence concerned with the interactions between computers and human language. It focuses on enabling computers to understand, interpret, and generate human language in a valuable way. NLP techniques are used in various applications such as language translation, sentiment analysis, chatbots, and more.\n",
    "\n",
    "One of the key preprocessing steps in NLP is text cleaning, which involves removing noise such as special characters, digits, and irrelevant symbols. This step helps in improving the quality of text data for further analysis.\n",
    "\n",
    "Extractive summarization is a technique used to generate summaries by selecting the most important sentences or phrases from a text document. It involves scoring sentences based on their relevance and importance to the overall content of the document.\n",
    "\n",
    "TF-IDF (Term Frequency-Inverse Document Frequency) is a popular technique used for text analysis and information retrieval. It calculates the importance of a term within a document relative to its frequency across multiple documents.\n",
    "\n",
    "TextRank is another algorithm commonly used for extractive summarization. It ranks sentences based on their similarity to other sentences in the document, similar to how PageRank works for web pages.\n",
    "\n",
    "In this example, we'll preprocess a text paragraph, apply extractive summarization using TF-IDF, and generate a summary based on the most important sentences.\n",
    "\"\"\"\n",
    "\n",
    "# Function to preprocess text\n",
    "def preprocess_text(text):\n",
    "    # Remove special characters and digits\n",
    "    processed_text = re.sub(r'[^a-zA-Z\\s]', '', text)\n",
    "    return processed_text\n",
    "\n",
    "# Preprocess the text\n",
    "clean_text = preprocess_text(text)\n",
    "\n",
    "# Tokenize the text into sentences\n",
    "sentences = sent_tokenize(clean_text)\n",
    "\n",
    "# Calculate TF-IDF scores for the sentences\n",
    "vectorizer = TfidfVectorizer()\n",
    "tfidf_matrix = vectorizer.fit_transform(sentences)\n",
    "\n",
    "# Calculate sentence importance scores based on TF-IDF\n",
    "sentence_scores = tfidf_matrix.sum(axis=1)\n",
    "\n",
    "# Sort sentences by importance scores\n",
    "sorted_indices = sentence_scores.argsort(axis=0).flatten()[::-1]\n",
    "\n",
    "# Choose the top-N sentences for the summary\n",
    "top_sentences_indices = sorted_indices[:top_sentences_count]\n",
    "\n",
    "# Generate the summary\n",
    "summary = ' '.join(sentences[int(idx)] for idx in top_sentences_indices)\n",
    "\n",
    "# Print the summary\n",
    "print(summary)\n"
   ]
  },
  {
   "cell_type": "code",
   "execution_count": null,
   "id": "d62f1fdf",
   "metadata": {},
   "outputs": [],
   "source": []
  }
 ],
 "metadata": {
  "kernelspec": {
   "display_name": "Python 3 (ipykernel)",
   "language": "python",
   "name": "python3"
  },
  "language_info": {
   "codemirror_mode": {
    "name": "ipython",
    "version": 3
   },
   "file_extension": ".py",
   "mimetype": "text/x-python",
   "name": "python",
   "nbconvert_exporter": "python",
   "pygments_lexer": "ipython3",
   "version": "3.11.1"
  }
 },
 "nbformat": 4,
 "nbformat_minor": 5
}
