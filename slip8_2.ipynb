{
 "cells": [
  {
   "cell_type": "markdown",
   "id": "c79a2562-8dfa-4782-b09b-ee73e878afdb",
   "metadata": {},
   "source": [
    "Q. 2)Download the groceries dataset. Write a python program to read the dataset and display its \n",
    "information. Preprocess the data (drop null values etc.) Convert the categorical values into numeric \n",
    "format. Apply the apriori algorithm on the above dataset to generate the frequent itemsets and association \n",
    "rules."
   ]
  },
  {
   "cell_type": "code",
   "execution_count": 30,
   "id": "9400dbfa-2ba7-45a6-93b8-30cc5aa12e1d",
   "metadata": {},
   "outputs": [
    {
     "name": "stdout",
     "output_type": "stream",
     "text": [
      "<class 'pandas.core.frame.DataFrame'>\n",
      "RangeIndex: 38765 entries, 0 to 38764\n",
      "Data columns (total 3 columns):\n",
      " #   Column           Non-Null Count  Dtype \n",
      "---  ------           --------------  ----- \n",
      " 0   Member_number    38765 non-null  int64 \n",
      " 1   Date             38765 non-null  object\n",
      " 2   itemDescription  38765 non-null  object\n",
      "dtypes: int64(1), object(2)\n",
      "memory usage: 908.7+ KB\n",
      "None\n",
      "       D      M      _      a      b      c      e      i      m      n  \\\n",
      "0  False   True   True  False   True  False   True  False   True   True   \n",
      "1   True  False  False   True  False  False   True  False  False  False   \n",
      "2   True  False  False  False  False   True   True   True   True   True   \n",
      "3  False  False  False  False  False  False  False  False  False  False   \n",
      "4  False  False  False  False  False  False  False  False  False  False   \n",
      "\n",
      "       o      p      r      s      t      u  \n",
      "0  False  False   True  False  False   True  \n",
      "1  False  False  False  False   True  False  \n",
      "2   True   True   True   True   True  False  \n",
      "3  False  False  False  False  False  False  \n",
      "4  False  False  False  False  False  False  \n"
     ]
    }
   ],
   "source": [
    "import pandas as pd\n",
    "from mlxtend.frequent_patterns import apriori,association_rules\n",
    "from mlxtend.preprocessing import TransactionEncoder\n",
    "\n",
    "data = pd.read_csv('Groceries_dataset.csv')\n",
    "print(data.info())\n",
    "\n",
    "data.dropna()\n",
    "\n",
    "te = TransactionEncoder()\n",
    "te_array = te.fit(data).transform(data)\n",
    "df = pd.DataFrame(te_array, columns=te.columns_)\n",
    "\n",
    "print(df.head())"
   ]
  },
  {
   "cell_type": "code",
   "execution_count": 38,
   "id": "86b634fb-8d71-41ed-939a-4fd5fd147a52",
   "metadata": {},
   "outputs": [
    {
     "name": "stdout",
     "output_type": "stream",
     "text": [
      "       support                           itemsets\n",
      "0     0.000052                                (D)\n",
      "1     0.000026                                (M)\n",
      "2     0.000026                                (_)\n",
      "3     0.000026                                (a)\n",
      "4     0.000026                                (b)\n",
      "...        ...                                ...\n",
      "2290  0.000026     (t, e, c, o, n, r, p, D, m, s)\n",
      "2291  0.000026     (t, i, c, o, n, r, p, D, m, s)\n",
      "2292  0.000026     (t, e, i, o, n, r, p, D, m, s)\n",
      "2293  0.000026     (t, e, i, c, o, n, r, p, m, s)\n",
      "2294  0.000026  (t, e, i, c, o, n, r, p, D, m, s)\n",
      "\n",
      "[2295 rows x 2 columns]\n",
      "       antecedents                     consequents  antecedent support  \\\n",
      "0              (D)                             (a)            0.000052   \n",
      "1              (a)                             (D)            0.000026   \n",
      "2              (c)                             (D)            0.000026   \n",
      "3              (D)                             (c)            0.000052   \n",
      "4              (D)                             (e)            0.000052   \n",
      "...            ...                             ...                 ...   \n",
      "177948         (r)  (t, e, i, c, o, n, p, D, m, s)            0.000052   \n",
      "177949         (p)  (t, e, i, c, o, n, r, D, m, s)            0.000026   \n",
      "177950         (D)  (t, e, i, c, o, n, r, p, m, s)            0.000052   \n",
      "177951         (m)  (t, e, i, c, o, n, r, p, D, s)            0.000052   \n",
      "177952         (s)  (t, e, i, c, o, n, r, p, D, m)            0.000026   \n",
      "\n",
      "        consequent support   support  confidence          lift  leverage  \\\n",
      "0                 0.000026  0.000026         0.5  19382.500000  0.000026   \n",
      "1                 0.000052  0.000026         1.0  19382.500000  0.000026   \n",
      "2                 0.000052  0.000026         1.0  19382.500000  0.000026   \n",
      "3                 0.000026  0.000026         0.5  19382.500000  0.000026   \n",
      "4                 0.000077  0.000052         1.0  12921.666667  0.000052   \n",
      "...                    ...       ...         ...           ...       ...   \n",
      "177948            0.000026  0.000026         0.5  19382.500000  0.000026   \n",
      "177949            0.000026  0.000026         1.0  38765.000000  0.000026   \n",
      "177950            0.000026  0.000026         0.5  19382.500000  0.000026   \n",
      "177951            0.000026  0.000026         0.5  19382.500000  0.000026   \n",
      "177952            0.000026  0.000026         1.0  38765.000000  0.000026   \n",
      "\n",
      "        conviction  zhangs_metric  \n",
      "0         1.999948       1.000000  \n",
      "1              inf       0.999974  \n",
      "2              inf       0.999974  \n",
      "3         1.999948       1.000000  \n",
      "4              inf       0.999974  \n",
      "...            ...            ...  \n",
      "177948    1.999948       1.000000  \n",
      "177949         inf       1.000000  \n",
      "177950    1.999948       1.000000  \n",
      "177951    1.999948       1.000000  \n",
      "177952         inf       1.000000  \n",
      "\n",
      "[177953 rows x 10 columns]\n"
     ]
    }
   ],
   "source": [
    "freq_item = apriori(df, min_support=0.00001, use_colnames=True)\n",
    "print(freq_item)\n",
    "\n",
    "rules = association_rules(freq_item, metric=\"confidence\", min_threshold=0.5)\n",
    "print(rules)"
   ]
  },
  {
   "cell_type": "code",
   "execution_count": null,
   "id": "f63d3ebe",
   "metadata": {},
   "outputs": [],
   "source": []
  }
 ],
 "metadata": {
  "kernelspec": {
   "display_name": "Python 3 (ipykernel)",
   "language": "python",
   "name": "python3"
  },
  "language_info": {
   "codemirror_mode": {
    "name": "ipython",
    "version": 3
   },
   "file_extension": ".py",
   "mimetype": "text/x-python",
   "name": "python",
   "nbconvert_exporter": "python",
   "pygments_lexer": "ipython3",
   "version": "3.11.1"
  }
 },
 "nbformat": 4,
 "nbformat_minor": 5
}
