{
 "cells": [
  {
   "cell_type": "code",
   "execution_count": 2,
   "id": "3b0342b9",
   "metadata": {},
   "outputs": [
    {
     "name": "stdout",
     "output_type": "stream",
     "text": [
      "\n",
      "So keep working Keep striving Never give up Fall down seven times get up eight \n",
      "Ease is a greater threat to progress than hardship Ease is a greater threat to progress \n",
      "than hardship So keep moving keep growing keep learning See you at work\n"
     ]
    }
   ],
   "source": [
    "import re\n",
    "import nltk\n",
    "from nltk.tokenize import sent_tokenize\n",
    "from sklearn.feature_extraction.text import TfidfVectorizer\n",
    "\n",
    "# Sample text paragraph\n",
    "text = \"\"\"\n",
    "So, keep working. Keep striving. Never give up. Fall down seven times, get up eight. \n",
    "Ease is a greater threat to progress than hardship. Ease is a greater threat to progress \n",
    "than hardship. So, keep moving, keep growing, keep learning. See you at work.\n",
    "\"\"\"\n",
    "\n",
    "# Function to preprocess text\n",
    "def preprocess_text(text):\n",
    "    # Remove special characters and digits\n",
    "    processed_text = re.sub(r'[^a-zA-Z\\s]', '', text)\n",
    "    return processed_text\n",
    "\n",
    "# Preprocess the text\n",
    "clean_text = preprocess_text(text)\n",
    "\n",
    "# Tokenize the text into sentences\n",
    "sentences = sent_tokenize(clean_text)\n",
    "\n",
    "# Calculate TF-IDF scores for the sentences\n",
    "vectorizer = TfidfVectorizer()\n",
    "tfidf_matrix = vectorizer.fit_transform(sentences)\n",
    "\n",
    "# Calculate sentence importance scores based on TF-IDF\n",
    "sentence_scores = tfidf_matrix.sum(axis=1)\n",
    "\n",
    "# Sort sentences by importance scores\n",
    "sorted_indices = sentence_scores.argsort(axis=0).flatten()[::-1]\n",
    "\n",
    "# Choose the top-N sentences for the summary\n",
    "top_sentences_count = 2  # Adjust as needed\n",
    "top_sentences_indices = sorted_indices[:top_sentences_count]\n",
    "\n",
    "# Generate the summary\n",
    "summary = ' '.join([sentences[int(idx)] for idx in top_sentences_indices])\n",
    "\n",
    "# Print the summary\n",
    "print(summary)\n"
   ]
  },
  {
   "cell_type": "code",
   "execution_count": null,
   "id": "86986801",
   "metadata": {},
   "outputs": [],
   "source": []
  }
 ],
 "metadata": {
  "kernelspec": {
   "display_name": "Python 3 (ipykernel)",
   "language": "python",
   "name": "python3"
  },
  "language_info": {
   "codemirror_mode": {
    "name": "ipython",
    "version": 3
   },
   "file_extension": ".py",
   "mimetype": "text/x-python",
   "name": "python",
   "nbconvert_exporter": "python",
   "pygments_lexer": "ipython3",
   "version": "3.11.1"
  }
 },
 "nbformat": 4,
 "nbformat_minor": 5
}
